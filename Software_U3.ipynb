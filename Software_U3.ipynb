{
 "cells": [
  {
   "cell_type": "markdown",
   "metadata": {},
   "source": [
    "# Materia: Metodos Numericos\n",
    "### Ingenieria en Sistemas Computacionales\n",
    "### Docente: MM. Jorger Pool Cel\n",
    "### UNIDAD 3\n",
    "### 4°A\n",
    "## Integrantes del Equipo:\n",
    " **Roger David Aban Ku**\n",
    " \n",
    " **Axel Salvador Aguilar Nuñez**\n",
    " \n",
    " **Jesus Armando Cabrera Piña**"
   ]
  },
  {
   "cell_type": "markdown",
   "metadata": {},
   "source": [
    "## Método de Jacobi\n",
    "\n",
    "${x_i^k} = T*x_{k-1} + c$\n",
    "\n",
    "$$10x_{1} - x_{2} =9$$\n",
    "$$-x_{1} + 10x_{2} - 2x_{3}=7$$\n",
    "$$-x_{2} + 10x_{3}=7$$"
   ]
  },
  {
   "cell_type": "code",
   "execution_count": 1,
   "metadata": {},
   "outputs": [],
   "source": [
    "import numpy as np\n",
    "\n",
    "from math import *\n",
    "\n",
    "T = np.array([[0,1/10,0],[1/10,0,1/5],[0,1/5,0]])\n",
    "c = np.array([9/10,7/10,3/5])\n",
    "x = np.array([0,0,0]) #vector de valores iniciales\n",
    "erroraceptado=0.01"
   ]
  },
  {
   "cell_type": "code",
   "execution_count": 2,
   "metadata": {},
   "outputs": [
    {
     "name": "stdout",
     "output_type": "stream",
     "text": [
      "vector resultado en Iteracion  1  :  [0.9 0.7 0.6] 1.0\n",
      "vector resultado en Iteracion  2  :  [0.97 0.91 0.74] 0.21649484536082472\n",
      "vector resultado en Iteracion  3  :  [0.991 0.945 0.782] 0.04238143289606462\n",
      "vector resultado en Iteracion  4  :  [0.9945 0.9555 0.789 ] 0.010558069381598858\n",
      "vector resultado en Iteracion  5  :  [0.99555 0.95725 0.7911 ] 0.0021093867711316373\n",
      "vector resultado en Iteracion  6  :  [0.995725 0.957775 0.79145 ] 0.0005272540108966921\n",
      "\n",
      "Solucion final aproximada [0.995725 0.957775 0.79145 ]\n"
     ]
    }
   ],
   "source": [
    "def jacobi (T,C,X, error):\n",
    "    e=1\n",
    "    i=0\n",
    "    while e>error:\n",
    "        resultado = np.dot(T,X)+C\n",
    "        numerador = np.amax(abs(resultado-X))\n",
    "        denominador = np.amax(abs(resultado))\n",
    "        e= numerador/denominador\n",
    "        print(\"vector resultado en Iteracion \",(i+1), \" : \",resultado,e)\n",
    "        X=resultado\n",
    "        if e< error:\n",
    "            print()\n",
    "            return \"Solucion final aproximada \"+ str(X)\n",
    "            break\n",
    "        i+=1\n",
    "    return \"SE HA ALCANZADO EL NUMERO MAXIMO DE ITERACIONES\" +\"\\nLa solucion alcanzada con \" + str((i))+\"iteraciones es: \" + str(X)\n",
    "    \n",
    "print(jacobi(T,c,x,0.001))"
   ]
  },
  {
   "cell_type": "code",
   "execution_count": null,
   "metadata": {},
   "outputs": [],
   "source": []
  },
  {
   "cell_type": "markdown",
   "metadata": {},
   "source": [
    "# Metodo de Gauss-Seidel"
   ]
  },
  {
   "cell_type": "code",
   "execution_count": 6,
   "metadata": {},
   "outputs": [],
   "source": [
    "import numpy as np\n",
    "\n",
    "from math import *\n",
    "T = np.asarray([[0,1/3,-1/3],[-1/2,0,-1/3],[-3/7,-3/7,0]])\n",
    "c=np.asarray([1/3,0,4/7])\n",
    "x=np.asarray([0,0,0])\n",
    "x=x.astype(float)\n",
    "xcambiante=x\n",
    "xcambiante=xcambiante.astype(float)"
   ]
  },
  {
   "cell_type": "code",
   "execution_count": 7,
   "metadata": {},
   "outputs": [
    {
     "name": "stdout",
     "output_type": "stream",
     "text": [
      "Vector resultado:  [ 0.33333333 -0.16666667  0.5       ] 1.0\n",
      "Vector resultado:  [ 0.11111111 -0.22222222  0.61904762] 0.3589743589743589\n",
      "Vector resultado:  [ 0.05291005 -0.23280423  0.64852608] 0.08974358974358974\n",
      "Vector resultado:  [ 0.03955656 -0.23595364  0.65559875] 0.02036838782288831\n",
      "Vector resultado:  [ 0.0361492  -0.23660752  0.65733928] 0.005183562786816872\n"
     ]
    }
   ],
   "source": [
    "error=1\n",
    "while error>0.01:\n",
    "    x1=np.dot(T[[0,0,0], [0,1,2]],xcambiante)\n",
    "    x1+=c[0]\n",
    "    xcambiante[0]=x1\n",
    "    x2=np.dot(T[[1,1,1], [0,1,2]],xcambiante)\n",
    "    x2+=c[1]\n",
    "    xcambiante[1]=x2\n",
    "    x3=np.dot(T[[2,2,2], [0,1,2]],xcambiante)\n",
    "    x3+=c[2]\n",
    "    xcambiante[2]=x3\n",
    "    \n",
    "    resultado=np.asarray([x1,x2,x3])\n",
    "    numerador = np.amax(abs(resultado-x))\n",
    "    denominador = np.amax(abs(resultado))\n",
    "    error= numerador/denominador\n",
    "    print(\"Vector resultado: \",resultado, error)\n",
    "    x=resultado"
   ]
  },
  {
   "cell_type": "code",
   "execution_count": null,
   "metadata": {},
   "outputs": [],
   "source": []
  },
  {
   "cell_type": "markdown",
   "metadata": {},
   "source": [
    "# Metodo de Newton\n",
    "\n",
    "$x^{k+1} = x^{k} - J^{-1} (x^{k})F(x^{k})$\n",
    "$$\\sin\\left(4\\pi x_{1}x_{2}\\right) - 2x_{2} - x_{1} = 0$$\n",
    "$$\\left(\\frac{4\\pi -1}{4\\pi}\\right)\\left(e^{2x_{1}} - e\\right) + 4ex_{2}^{2} - 2ex_{1} = 0$$\n",
    "\n",
    "$J(x)=\n",
    "\\left[\n",
    "\\begin{array}{lc}\n",
    "4\\pi x_{2}\\cos(4\\pi x_{1}x_{2}) - 1 & 4\\pi x_{1}\\cos(4\\pi x_{1}x_{2}) - 2\\\\\n",
    "2\\left(\\frac{4\\pi -1}{4\\pi}\\right)e^{2x_{1}} - 2e & 8ex_{2}\n",
    "\\end{array}\n",
    "\\right]$\n",
    "\n",
    "$x^{0}=\n",
    "\\left[\n",
    "\\begin{array}{l1}\n",
    "0 \\\\ \n",
    "0\n",
    "\\end{array}\n",
    "\\right]$"
   ]
  },
  {
   "cell_type": "code",
   "execution_count": 8,
   "metadata": {},
   "outputs": [],
   "source": [
    "import numpy as np\n",
    "\n",
    "from math import *\n",
    "def jacobiano(x):\n",
    "    J = np.array([[((4*pi*x[1]*cos(4*pi*x[0]*x[1])) - 1), ((4*pi*x[0]*cos(4*pi*x[0]*x[1])) - 2)], [((2*((4*pi - 1)/(4*pi))*exp(2*x[0])) - 2*e), 8*e*x[1]]])\n",
    "    JInversa = np.linalg.inv(J)\n",
    "    return JInversa\n",
    "\n",
    "def Fx(x):\n",
    "    xk=np.array([sin(4*pi*x[0]*x[1]) - 2*x[1] - x[0], (((4*pi - 1)/(4*pi))*(exp(2*x[0]) - e)) + 4*e*(x[1]**2) - 2*e*x[0]])\n",
    "\n",
    "    return xk"
   ]
  },
  {
   "cell_type": "code",
   "execution_count": 9,
   "metadata": {},
   "outputs": [
    {
     "name": "stdout",
     "output_type": "stream",
     "text": [
      "Iteración: 1  Resultado  [-0.43984123  0.21992062] 1.0\n",
      "Iteración: 2  Resultado  [-0.51316159 -0.01837622] 0.46436997825788207\n",
      "Iteración: 3  Resultado  [-0.38821176  0.04285363] 0.32185998804440363\n",
      "Iteración: 4  Resultado  [-0.37423804  0.05590018] 0.03733912646405736\n",
      "Iteración: 5  Resultado  [-0.37369869  0.05626611] 0.0014432678704865245\n",
      "Iteración: 6  Resultado  [-0.37369822  0.05626649] 1.2740750485242881e-06\n",
      "\n",
      "Solucion final aproximada [-0.37369822  0.05626649]\n"
     ]
    }
   ],
   "source": [
    "x = np.array([0,0]) #vector de valores iniciales\n",
    "error = 1\n",
    "c=0\n",
    "tol=0.001\n",
    "while error>tol:\n",
    "    c+=1\n",
    "    r= jacobiano(x)\n",
    "    feval = Fx(x)\n",
    "    resultado =x- np.dot(r,feval)\n",
    "    \n",
    "    numerador = np.amax( abs((resultado - x)))\n",
    "    denominador = np.amax( abs(resultado))\n",
    "    error = numerador/denominador\n",
    "    x=resultado\n",
    "    print(\"Iteración:\",c,\" Resultado \",resultado,error)\n",
    "    if error<tol:\n",
    "        print()\n",
    "        print(\"Solucion final aproximada \"+ str(x))"
   ]
  }
 ],
 "metadata": {
  "kernelspec": {
   "display_name": "Python 3",
   "language": "python",
   "name": "python3"
  },
  "language_info": {
   "codemirror_mode": {
    "name": "ipython",
    "version": 3
   },
   "file_extension": ".py",
   "mimetype": "text/x-python",
   "name": "python",
   "nbconvert_exporter": "python",
   "pygments_lexer": "ipython3",
   "version": "3.8.5"
  }
 },
 "nbformat": 4,
 "nbformat_minor": 4
}
